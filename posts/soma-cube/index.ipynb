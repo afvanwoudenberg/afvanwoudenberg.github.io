{
  "cells": [
    {
      "cell_type": "raw",
      "metadata": {},
      "source": [
        "---\n",
        "title: \"Soma Cube\"\n",
        "description: \"Solving Piet Hein's Soma cube with Python.\"\n",
        "author: \"Aswin van Woudenberg\"\n",
        "date: \"2023-10-20\"\n",
        "categories: [programming, python, matplotlib, puzzles]\n",
        "toc: true\n",
        "---"
      ],
      "id": "3e83cc98"
    },
    {
      "cell_type": "markdown",
      "metadata": {},
      "source": [
        "# Soma cube\n",
        "\n",
        "The [Soma cube](https://en.wikipedia.org/wiki/Soma_cube) is the brainchild of Danish mathematician, inventor, designer, writer and poet [Piet Hein](https://en.wikipedia.org/wiki/Piet_Hein_(scientist)). The puzzle consists of seven pieces and the goal is to assemble these pieces into a 3x3x3 cube or other shapes.\n",
        "\n",
        "Piet Hein came up with this puzzle during a lecture on quantum physics by [Werner Heisenberg](https://en.wikipedia.org/wiki/Werner_Heisenberg). Instead of paying attention to the renowned theoretical physicist, Piet prefered idling away his time by thinking up frivolous brainteasers. Such a waste, not to mention rude! What's even worse is that people seemed to actually enjoy his puzzle. This meant that Piet Hein's invention wasn't just a time-waster for him but for everyone who got hooked on it.\n",
        "\n",
        "Initially, the Soma cube was mostly known in Scandinavian countries, but things took a dark turn when [Martin Gardner](https://en.wikipedia.org/wiki/Martin_Gardner) featured it in his [Mathematical Games column](https://bobson.ludost.net/copycrime/mgardner/gardner02.pdf#page=64) in Scientific American in September 1958. Suddenly, the whole world got introduced to this time-waster.\n",
        "\n",
        "As a self-proclaimed restorer of productivity, I hate to see people trifle away their lives trying to solve these inane puzzles. For this reason I've created a Soma solver in Python so people can go back to spending time on more fruitful pursuits.\n",
        "\n",
        "Read on to learn how I did this.\n",
        "\n",
        "## The Soma puzzle pieces\n",
        "\n",
        "Each of the seven pieces has a different shape. I've given each shape a different color to ease visualizing solutions later on.\n",
        "\n",
        "![z](z.png)\n",
        "![p](p.png)\n",
        "![t](t.png)\n",
        "![b](b.png)\n",
        "![a](a.png)\n",
        "![l](l.png)\n",
        "![v](v.png)\n",
        "\n",
        "As mentioned above, the objective is to assemble these pieces into various shapes, like a cube.\n",
        "\n",
        "![](solution.png)\n",
        "\n",
        "## Importing libraries\n",
        "\n",
        "Let's start by importing some libraries. We'll use `matplotlib` to visualize solutions in 3D. \n"
      ],
      "id": "5d206ef1"
    },
    {
      "cell_type": "code",
      "metadata": {},
      "source": [
        "import numpy as np\n",
        "import matplotlib.pyplot as plt\n",
        "import matplotlib.animation as animation\n",
        "import ipywidgets as widgets\n",
        "\n",
        "from IPython.display import HTML\n",
        "from math import ceil"
      ],
      "id": "33d4e5d6",
      "execution_count": null,
      "outputs": []
    },
    {
      "cell_type": "markdown",
      "metadata": {},
      "source": [
        "## Representing the pieces\n",
        "\n",
        "We'll represent each piece as a list of coordinates in 3D space. Each tuple is an (x, y, z) coordinate.\n"
      ],
      "id": "abee5438"
    },
    {
      "cell_type": "code",
      "metadata": {},
      "source": [
        "z = [(0,0,0),(1,0,0),(1,1,0),(2,1,0)] # blue piece\n",
        "p = [(0,0,0),(0,1,0),(0,1,1),(1,1,0)] # red piece\n",
        "t = [(0,0,0),(0,1,0),(1,1,0),(0,2,0)] # purple piece\n",
        "b = [(0,0,0),(1,0,0),(0,1,0),(0,1,1)] # brown piece\n",
        "a = [(0,0,0),(0,0,1),(0,1,0),(1,1,0)] # yellow piece\n",
        "l = [(0,0,0),(1,0,0),(2,0,0),(0,1,0)] # orange piece\n",
        "v = [(0,0,0),(1,0,0),(0,1,0)] # green piece"
      ],
      "id": "f2fe49f0",
      "execution_count": null,
      "outputs": []
    },
    {
      "cell_type": "markdown",
      "metadata": {},
      "source": [
        "The letters `z`, `t`, `p`, `b`, `a`, `l`, and `v` look (with some imagination) like the pieces.\n",
        "\n",
        "Let's put all pieces and colors in a list so we can access them by index.\n"
      ],
      "id": "7cebd846"
    },
    {
      "cell_type": "code",
      "metadata": {},
      "source": [
        "pieces = [z, p, t, b, a, l, v]\n",
        "colors = [\"blue\", \"red\", \"purple\", \"brown\", \"yellow\", \"orange\", \"green\"]"
      ],
      "id": "5ce26522",
      "execution_count": null,
      "outputs": []
    },
    {
      "cell_type": "markdown",
      "metadata": {},
      "source": [
        "## Visualizing the pieces and solution\n",
        "\n",
        "Before writing the solver, let's consider how we can create a 3D visualization of the Soma cube. I've chosen to use Matplotlib for its 3D rendering capabilities.\n",
        "\n",
        "Matplotlib can draw voxels (3D pixels) which we can use to visualize a single piece, multiple pieces, or even the full solution in 3D. The following function takes a 3D numpy array that represents the voxels and plots them.\n"
      ],
      "id": "2d3ed14d"
    },
    {
      "cell_type": "code",
      "metadata": {},
      "source": [
        "def plot_solution(colors, ax=None):\n",
        "    if not ax:\n",
        "        fig = plt.figure()\n",
        "\n",
        "        # axis with 3D projection\n",
        "        ax = fig.add_subplot(projection='3d')\n",
        "        \n",
        "    ax.set_aspect('equal')\n",
        "    ax.set_axis_off()\n",
        "\n",
        "    # draw each voxel with a color (each voxel unequal to None)\n",
        "    voxels = (colors != None)\n",
        "\n",
        "    ax.voxels(voxels, facecolors=colors, edgecolors=colors)"
      ],
      "id": "7140718e",
      "execution_count": null,
      "outputs": []
    },
    {
      "cell_type": "markdown",
      "metadata": {},
      "source": [
        "To use this function we need to call it with a 3D numpy array that represents each voxel.\n"
      ],
      "id": "9db3030b"
    },
    {
      "cell_type": "code",
      "metadata": {},
      "source": [
        "voxels = np.empty((3,3,3), dtype='object')"
      ],
      "id": "1a6f2b01",
      "execution_count": null,
      "outputs": []
    },
    {
      "cell_type": "markdown",
      "metadata": {},
      "source": [
        "Each element in this array is initialized to `None`.\n"
      ],
      "id": "97fa7a6a"
    },
    {
      "cell_type": "code",
      "metadata": {},
      "source": [
        "voxels"
      ],
      "id": "c992bb1d",
      "execution_count": null,
      "outputs": []
    },
    {
      "cell_type": "markdown",
      "metadata": {},
      "source": [
        "Let's set each element of `voxels` to a color and call `plot_solution`. We can set elements seperately, like this:\n"
      ],
      "id": "2eaae881"
    },
    {
      "cell_type": "code",
      "metadata": {},
      "source": [
        "voxels[0][0][0] = 'yellow'\n",
        "voxels[1][0][0] = 'yellow'\n",
        "voxels[0][0][1] = 'yellow'\n",
        "voxels[0][1][1] = 'yellow'"
      ],
      "id": "76bd50c1",
      "execution_count": null,
      "outputs": []
    },
    {
      "cell_type": "markdown",
      "metadata": {},
      "source": [
        "Or we can set all elements at once.\n"
      ],
      "id": "d00529bd"
    },
    {
      "cell_type": "code",
      "metadata": {},
      "source": [
        "voxels = np.array([\n",
        "    [['yellow', 'yellow', 'orange'],\n",
        "     ['brown',  'yellow', 'orange'],\n",
        "     ['brown',  'brown',  'orange']],\n",
        "    [['yellow', 'green',  'orange'],\n",
        "     ['brown',  'blue',   'blue'],\n",
        "     ['blue',   'blue',   'red']],\n",
        "    [['purple', 'green',  'green'],\n",
        "     ['purple', 'purple', 'red'],\n",
        "     ['purple', 'red',    'red']]\n",
        "])"
      ],
      "id": "50ca0ac1",
      "execution_count": null,
      "outputs": []
    },
    {
      "cell_type": "code",
      "metadata": {},
      "source": [
        "plot_solution(voxels)\n",
        "plt.show()"
      ],
      "id": "cfe6886c",
      "execution_count": null,
      "outputs": []
    },
    {
      "cell_type": "markdown",
      "metadata": {},
      "source": [
        "This is the same solution as shown above and one of the 240 possible unique ways of packing the seven Soma pieces into a 3x3x3 cube. \n",
        "\n",
        "Let's see how we can visualize a single piece.\n"
      ],
      "id": "abfddcf1"
    },
    {
      "cell_type": "code",
      "metadata": {},
      "source": [
        "def plot_piece(piece, color, ax=None):\n",
        "    max_dim = np.max([np.max(piece) + 1, 3])\n",
        "    voxels = np.empty((max_dim, max_dim, max_dim), dtype='object')\n",
        "    for x, y, z in piece:\n",
        "        voxels[x][y][z] = color\n",
        "    plot_solution(voxels, ax)"
      ],
      "id": "7925cd17",
      "execution_count": null,
      "outputs": []
    },
    {
      "cell_type": "code",
      "metadata": {},
      "source": [
        "plot_piece(z, \"blue\")\n",
        "plt.show()"
      ],
      "id": "a75cde59",
      "execution_count": null,
      "outputs": []
    },
    {
      "cell_type": "markdown",
      "metadata": {},
      "source": [
        "## Animating a solution\n",
        "\n",
        "In the solution above it was impossible to tell how some pieces were positioned. The following function animates the assembly of a solution by adding pieces one by one.\n"
      ],
      "id": "91785124"
    },
    {
      "cell_type": "code",
      "metadata": {},
      "source": [
        "def animate_solution(colors):\n",
        "    w, d, h = colors.shape\n",
        "    \n",
        "    show_order = []\n",
        "    for a in range(1,max(w, d, h)+1):\n",
        "        for z in range(min(a,h)):\n",
        "            for x in range(min(a,w)):\n",
        "                for y in range(d-1,d-1-min(a,d),-1):\n",
        "                    color = colors[x][y][z]\n",
        "                    if not (color is None or color in show_order):\n",
        "                        show_order.append(color)\n",
        "    \n",
        "    fig = plt.figure()\n",
        "    \n",
        "    ax = fig.add_subplot(projection='3d')\n",
        "    \n",
        "    def update(frame):\n",
        "        ax.clear()\n",
        "        ax.set_aspect('equal')\n",
        "        ax.set_axis_off()\n",
        "        \n",
        "        voxels = np.in1d(colors, show_order[:frame+1]).reshape(colors.shape)\n",
        "\n",
        "        ax.voxels(voxels, facecolors=colors, edgecolors=colors)\n",
        "\n",
        "    plt.close()\n",
        "\n",
        "    anim = animation.FuncAnimation(fig, update, frames=len(show_order), interval=1000)\n",
        "    \n",
        "    return anim"
      ],
      "id": "df945058",
      "execution_count": null,
      "outputs": []
    },
    {
      "cell_type": "code",
      "metadata": {},
      "source": [
        "anim = animate_solution(voxels)\n",
        "HTML(anim.to_jshtml(default_mode='once'))"
      ],
      "id": "4601b4a2",
      "execution_count": null,
      "outputs": []
    },
    {
      "cell_type": "markdown",
      "metadata": {},
      "source": [
        "Now it's much clearer how a solution is constructed.\n",
        "\n",
        "## Rotating pieces\n",
        "\n",
        "We will implement the solver using a simple recursive backtracking algorithm. The solver will try to fit the pieces in their various orientations. For this reason, we define some helper functions to rotate a piece around an axis. I also defined an `identity` function that just returns the input as is. Its use will become clear later.\n"
      ],
      "id": "de02660f"
    },
    {
      "cell_type": "code",
      "metadata": {},
      "source": [
        "rotate_x = lambda cubelets: [(x, z, -y) for (x, y, z) in cubelets]\n",
        "rotate_y = lambda cubelets: [(z, y, -x) for (x, y, z) in cubelets]\n",
        "rotate_z = lambda cubelets: [(-y, x, z) for (x, y, z) in cubelets]\n",
        "identity = lambda cubelets: cubelets"
      ],
      "id": "0ce36e04",
      "execution_count": null,
      "outputs": []
    },
    {
      "cell_type": "markdown",
      "metadata": {},
      "source": [
        "For instance, to rotate piece `z` around the x-axis we can make use of `rotate_x`.\n"
      ],
      "id": "f777636f"
    },
    {
      "cell_type": "code",
      "metadata": {},
      "source": [
        "rotate_x(z)"
      ],
      "id": "1e9d4d3d",
      "execution_count": null,
      "outputs": []
    },
    {
      "cell_type": "markdown",
      "metadata": {},
      "source": [
        "We can see that rotating a piece may make some coordinates negative. The following function translates a piece so that all `x`, `y`, `z` coordinates are minimal but positive.\n"
      ],
      "id": "bfc11cbe"
    },
    {
      "cell_type": "code",
      "metadata": {},
      "source": [
        "def translate(piece):\n",
        "    d_x, d_y, d_z = np.min(np.array(piece), axis=0) * -1\n",
        "    return [(x + d_x, y + d_y, z + d_z) for (x, y, z) in piece]"
      ],
      "id": "6251ab06",
      "execution_count": null,
      "outputs": []
    },
    {
      "cell_type": "markdown",
      "metadata": {},
      "source": [
        "Now we can do the same rotation as above but end up with coordinates that are all positive.\n"
      ],
      "id": "930b14f2"
    },
    {
      "cell_type": "code",
      "metadata": {},
      "source": [
        "translate(rotate_x(z))"
      ],
      "id": "2122ddfa",
      "execution_count": null,
      "outputs": []
    },
    {
      "cell_type": "markdown",
      "metadata": {},
      "source": [
        "We will use this `translate` function when we display individual pieces.\n",
        "\n",
        "## Generating all orientations for each piece\n",
        "\n",
        "Using the functions defined above we can generate all orientations for each piece. Several transformations are performed one after another. The `identity` function just returns the original orientation.\n"
      ],
      "id": "2620ef36"
    },
    {
      "cell_type": "code",
      "metadata": {},
      "source": [
        "def generate_rotations(piece):\n",
        "    orientations = []\n",
        "    for f_a in [identity, rotate_x,  rotate_y, rotate_z]:\n",
        "        for f_b in [identity, rotate_x,  rotate_y, rotate_z]:\n",
        "            for f_c in [identity, rotate_x,  rotate_y, rotate_z]:\n",
        "                for f_d in [identity, rotate_x,  rotate_y, rotate_z]:\n",
        "                    for f_e in [identity, rotate_x,  rotate_y, rotate_z]:\n",
        "                        rot_piece = sorted(f_a(f_b(f_c(f_d(f_e(piece))))))\n",
        "                        min_x, min_y, min_z = rot_piece[0]\n",
        "                        trans_rot_piece = [(x - min_x, y - min_y, z - min_z) for x, y, z in rot_piece]\n",
        "                        if trans_rot_piece not in orientations:\n",
        "                            orientations.append(trans_rot_piece)\n",
        "                        \n",
        "    return orientations"
      ],
      "id": "87e75392",
      "execution_count": null,
      "outputs": []
    },
    {
      "cell_type": "markdown",
      "metadata": {},
      "source": [
        "We can call this function for one piece.\n"
      ],
      "id": "84666b20"
    },
    {
      "cell_type": "code",
      "metadata": {},
      "source": [
        "generate_rotations(z)"
      ],
      "id": "e04cd316",
      "execution_count": null,
      "outputs": []
    },
    {
      "cell_type": "markdown",
      "metadata": {},
      "source": [
        "Or we can apply this function to every piece in the `pieces` list we defined above.\n"
      ],
      "id": "028e2e10"
    },
    {
      "cell_type": "code",
      "metadata": {},
      "source": [
        "orientations = list(map(generate_rotations, pieces))"
      ],
      "id": "4127997a",
      "execution_count": null,
      "outputs": []
    },
    {
      "cell_type": "markdown",
      "metadata": {},
      "source": [
        "We can display all orientations for each piece. Note how we apply `translate` to make sure all coordinates end up in the positive quadrant.\n"
      ],
      "id": "7393ec27"
    },
    {
      "cell_type": "code",
      "metadata": {},
      "source": [
        "#| column: screen-inset\n",
        "cols = 8\n",
        "total_number_of_orientations = sum(list(map(len,orientations)))\n",
        "rows = ceil(total_number_of_orientations / cols)\n",
        "fig, axs = plt.subplots(rows, cols, figsize=(cols*3,rows*3), \n",
        "    subplot_kw= { 'projection':'3d' }, gridspec_kw = {'wspace':0.0, 'hspace':0.0})\n",
        "\n",
        "fig.subplots_adjust(top=0.96)\n",
        "fig.suptitle(f\"Orientations\", fontsize=16)\n",
        "\n",
        "count = 0\n",
        "for i in range(len(pieces)):\n",
        "    for j in range(len(orientations[i])):\n",
        "        plot_piece(translate(orientations[i][j]), colors[i], axs[count // cols, count % cols])\n",
        "        count += 1\n",
        "\n",
        "while count < cols * rows:\n",
        "    axs[count // cols, count % cols].set_axis_off()\n",
        "    count += 1\n",
        "\n",
        "plt.show()"
      ],
      "id": "27052b54",
      "execution_count": null,
      "outputs": []
    },
    {
      "cell_type": "markdown",
      "metadata": {},
      "source": [
        "In the solver below, for each piece we'll see which orientation fits where.\n",
        "\n",
        "## Writing the solver\n",
        "\n",
        "We're finally ready to work on the solver for the Soma cube. The solver will take in a list of coordinates (that make up the cube that we want to fill up with pieces) and recursively search for a solution. \n",
        "\n",
        "We can generate this list of coordinates using a simple list comprehension.\n"
      ],
      "id": "82f9562c"
    },
    {
      "cell_type": "code",
      "metadata": {},
      "source": [
        "cube_coordinates = [(x, y, z) for x in range(3) for y in range(3) for z in range(3)]"
      ],
      "id": "8f362483",
      "execution_count": null,
      "outputs": []
    },
    {
      "cell_type": "code",
      "metadata": {},
      "source": [
        "cube_coordinates"
      ],
      "id": "4cdc7773",
      "execution_count": null,
      "outputs": []
    },
    {
      "cell_type": "markdown",
      "metadata": {},
      "source": [
        "The solver will yield the same list but each tuple will have an extra element indicating the color that coordinate will get after all pieces have been placed.\n",
        "\n",
        "We'll use a list of booleans to keep track of which pieces have been placed.\n"
      ],
      "id": "e0ab0da7"
    },
    {
      "cell_type": "code",
      "metadata": {},
      "source": [
        "pieces_used = [False] * 7"
      ],
      "id": "a69d2194",
      "execution_count": null,
      "outputs": []
    },
    {
      "cell_type": "code",
      "metadata": {},
      "source": [
        "def solve_soma_(solution, i):\n",
        "    if i == 27:\n",
        "        yield solution\n",
        "    else:\n",
        "        x, y, z, _ = solution[i]\n",
        "        for piece in range(7):\n",
        "            if not pieces_used[piece]:\n",
        "                for orientation in orientations[piece]:\n",
        "                    empty_coords = [(x + d_x, y + d_y, z + d_z, None) for (d_x, d_y, d_z) in orientation]\n",
        "                    if all([tup in solution for tup in empty_coords]):\n",
        "                        # placing piece: replace None with color\n",
        "                        pieces_used[piece] = True\n",
        "                        filled_coords = [(x + d_x, y + d_y, z + d_z, colors[piece]) for (d_x, d_y, d_z) in orientation]\n",
        "                        new_solution = sorted([tup for tup in solution if tup not in empty_coords] + filled_coords)\n",
        "                        \n",
        "                        # find next empty coordinate\n",
        "                        j = i\n",
        "                        while j < 27 and new_solution[j][3]:\n",
        "                            j += 1\n",
        "                            \n",
        "                        # continue search\n",
        "                        yield from solve_soma_(new_solution, j)\n",
        "                        pieces_used[piece] = False"
      ],
      "id": "66bc7f92",
      "execution_count": null,
      "outputs": []
    },
    {
      "cell_type": "code",
      "metadata": {},
      "source": [
        "def solve_soma(coordinates):\n",
        "    global pieces_used\n",
        "    pieces_used = [False] * 7\n",
        "    \n",
        "    solution = sorted([(x, y, z, None) for x, y, z in coordinates])\n",
        "    yield from solve_soma_(solution, 0)"
      ],
      "id": "5f7c978d",
      "execution_count": null,
      "outputs": []
    },
    {
      "cell_type": "markdown",
      "metadata": {},
      "source": [
        "You call the `solve_soma` function with a list of coordinates representing the space that will be packed with Soma pieces. The actual algorithm is implemented in `solve_soma_`. The algorithm does the following:\n",
        "\n",
        "1. It checks if all coordinates are filled. If so, it yields the solution.\n",
        "2. For each possible orientation of a piece, it checks if it can be placed from the current coordinate without overlapping with filled coordinates that are already in the solution.\n",
        "3. If a valid placement is found, it recursively explores how to fill from the next empty coordinate.\n",
        "4. After exploring a piece and its orientation, it tries other possibilities.\n",
        "\n",
        "Different solutions may be duplicates of each other in the sense that one solution is a rotation of another.\n",
        "\n",
        "## Finding and displaying a solution\n",
        "\n",
        "The solver is a generator function that yields all solutions one by one. Let's start by just displaying the first solution it finds. \n",
        "\n",
        "The following function finds the first solution given a list of coordinates to fill and plots this solution.\n"
      ],
      "id": "cb3dd4a5"
    },
    {
      "cell_type": "code",
      "metadata": {},
      "source": [
        "def solve_and_plot_first_solution(coordinates, ax=None):\n",
        "    # instantiate generator\n",
        "    gen = solve_soma(coordinates)\n",
        "\n",
        "    # find first solution\n",
        "    solution = next(gen)\n",
        "\n",
        "    # find voxel space size\n",
        "    max_dim = np.max(coordinates) + 1\n",
        "\n",
        "    # fill 3D voxel array and plot it\n",
        "    voxels = np.empty((max_dim, max_dim, max_dim), dtype='object')\n",
        "    for x, y, z, color in solution:\n",
        "        voxels[x][y][z] = color\n",
        "\n",
        "    plot_solution(voxels, ax)"
      ],
      "id": "7055b93f",
      "execution_count": null,
      "outputs": []
    },
    {
      "cell_type": "code",
      "metadata": {},
      "source": [
        "solve_and_plot_first_solution(cube_coordinates)\n",
        "plt.show()"
      ],
      "id": "c7dbc883",
      "execution_count": null,
      "outputs": []
    },
    {
      "cell_type": "markdown",
      "metadata": {},
      "source": [
        "We'll also define a function that finds the first solution and then animates it.\n"
      ],
      "id": "d3083614"
    },
    {
      "cell_type": "code",
      "metadata": {},
      "source": [
        "def solve_and_animate_first_solution(coordinates):\n",
        "    # instantiate generator\n",
        "    gen = solve_soma(coordinates)\n",
        "\n",
        "    # find first solution\n",
        "    solution = next(gen)\n",
        "\n",
        "    # find voxel space size\n",
        "    max_dim = np.max(coordinates) + 1\n",
        "\n",
        "    # fill 3D voxel array and plot it\n",
        "    voxels = np.empty((max_dim, max_dim, max_dim), dtype='object')\n",
        "    for x, y, z, color in solution:\n",
        "        voxels[x][y][z] = color\n",
        "\n",
        "    anim = animate_solution(voxels)\n",
        "    display(HTML(anim.to_jshtml(default_mode='once')))"
      ],
      "id": "c11a2d5b",
      "execution_count": null,
      "outputs": []
    },
    {
      "cell_type": "code",
      "metadata": {},
      "source": [
        "solve_and_animate_first_solution(cube_coordinates)"
      ],
      "id": "7438853a",
      "execution_count": null,
      "outputs": []
    },
    {
      "cell_type": "markdown",
      "metadata": {},
      "source": [
        "## Creating other figures\n",
        "\n",
        "We called the solver with `cube_coordinates` that contains the coordinates that make up a cube. Instead of a cube, we can also pass a sorted list of coordinates that make up another shape.\n",
        "\n",
        "Let's look at some examples.\n"
      ],
      "id": "49c8dab1"
    },
    {
      "cell_type": "code",
      "metadata": {},
      "source": [
        "pyramid_coordinates = sorted(\n",
        "    [(x, y, 0) for x in range(1, 4) for y in range(5)] + \n",
        "    [(x, y, 0) for x in [0, 4] for y in range(1, 4)] +\n",
        "    [(2, y, 1) for y in range(1, 4)] + \n",
        "    [(1, 2, 1), (3, 2, 1), (2, 2, 2)]\n",
        ")\n",
        "\n",
        "turtle_coordinates = sorted(\n",
        "    [(x, y, z) for x in range(1, 4) for y in range(1, 4) for z in range(2)] +\n",
        "    [(4, 2, z) for z in range(3)] + \n",
        "    [(0, 2, 0), (1, 0, 0), (1, 4, 0), (3, 0, 0), (3, 4, 0), (5, 2, 2)]\n",
        ")\n",
        "\n",
        "tower_coordinates = sorted(\n",
        "    [(x, y, z) for x in range(2) for y in range(2) for z in range(7) if (x, y, z) != (1, 0, 6)]\n",
        ")\n",
        "\n",
        "bear_coordinates = sorted(\n",
        "    [(x, y, 0) for x in range(3) for y in range(2)] +\n",
        "    [(x, 1, z) for x in range(3) for z in range(1, 6)] + \n",
        "    [(x, 0, z) for x in [0, 2] for z in [1, 3, 4]]\n",
        ")\n",
        "\n",
        "tunnel_coordinates = sorted(\n",
        "    [(x, y, 0) for x in range(5) for y in range(3) if x != 2] +\n",
        "    [(x, y, 1) for x in range(1, 4) for y in range(3) if x != 2] +\n",
        "    [(x, y, 2) for x in range(1, 4) for y in range(3)]\n",
        ")\n",
        "\n",
        "tub_coordinates = sorted(\n",
        "    [(x, y, 0) for x in range(5) for y in range(3)] +\n",
        "    [(x, y, 1) for x in range(5) for y in range(3) if x in [0, 4] or y in [0, 2]]\n",
        ")\n",
        "\n",
        "airplane_coordinates = sorted(\n",
        "    [(x, y, 0) for x in range(1, 6) for y in range(7) if x == 3 or y in [0, 1]] +\n",
        "    [(x, y, 1) for x in range(7) for y in range(7) if y == 0 or (x == 3 and y != 5)]\n",
        ")\n",
        "\n",
        "bench_coordinates = sorted(\n",
        "    [(x, y, z) for x in range(5) for y in range(2) for z in range(3) if y == 1 or x in [0, 4]] +\n",
        "    [(x, 0, 1) for x in range(1, 4)] +\n",
        "    [(x, 1, 3) for x in range(1, 4)]\n",
        ")\n",
        "\n",
        "duck_coordinates = sorted(\n",
        "    [(x, y, z) for x in range(4) for y in range(3) for z in range(2)] +\n",
        "    [(3, 1, 2), (3, 1, 3), (4, 1, 3)]\n",
        ")\n",
        "\n",
        "cascade_coordinates = sorted(\n",
        "    [(x, y, z) for x in range(3) for y in range(3) for z in range(5) if (2-x) + y >= z]\n",
        ")\n",
        "\n",
        "chair_coordinates = sorted(\n",
        "    [(x, y, z) for x in range(3) for y in range(3) for z in range(2)] +\n",
        "    [(x, 2, z) for x in range(3) for z in range(2, 5)]\n",
        ")\n",
        "\n",
        "castle_coordinates = sorted(\n",
        "    [(x, y, 0) for x in range(5) for y in range(5) if (x, y) not in [(0,2), (4,2)]] +\n",
        "    [(0, 0, 1), (0, 4, 1), (4, 0, 1), (4, 4, 1)]\n",
        ")\n",
        "\n",
        "dog_coordinates = sorted(\n",
        "    [(x, y, 0) for x in range(6) for y in range(3) if (x, y) not in [(3, 0), (3, 2), (5, 1)]] +\n",
        "    [(x, y, 1) for x in range(5) for y in range(3) if x == 4 or y == 1] +\n",
        "    [(x, 1, z) for x in range(3, 6) for z in range(2, 4) if (x, z) != (5, 3)]\n",
        ")\n",
        "\n",
        "cross_coordinates = sorted(\n",
        "    [(x, y, z) for x in range(3) for y in range(3) for z in range(2)] +\n",
        "    [(1, y, 2) for y in range(3)] +\n",
        "    [(1, 1, z) for z in range(3, 7)] + \n",
        "    [(0, 1, 5), (2, 1, 5)]\n",
        ")\n",
        "\n",
        "elephant_coordinates = sorted(\n",
        "    [(0, 0, 0), (3, 0, 0), (0, 2, 0), (3, 2, 0)] + \n",
        "    [(x, y, 1) for x in range(4) for y in range(3) if (x, y) != (3, 1)] +\n",
        "    [(x, 1, z) for x in range(5) for z in range(2, 4) if (x, z) != (0, 3)] +\n",
        "    [(4, 1, 1), (2, 0, 2), (2, 2, 2)]\n",
        ")\n",
        "\n",
        "stairs_coordinates = sorted(\n",
        "    [(x, y, z) for y in range(3) for z in range(3) for x in range(4-z)]\n",
        ")\n",
        "\n",
        "snake_coordinates = sorted(\n",
        "    [(x, y, z) for y in range(4) for z in range(2) for x in range(2*(3-y), (2*(3-y))+3)] +\n",
        "    [(x, 0, z) for x in range(8, 10) for z in range(2, 4) if x == 8 or z == 3]\n",
        ")\n",
        "\n",
        "skyscraper_coordinates = sorted(\n",
        "    [(x, y, 0) for x in range(3) for y in range(3)] +\n",
        "    [(x, y, z) for x in range(2) for y in range(1, 3) for z in range(1, 5)] + \n",
        "    [(1, 1, 5), (1, 1, 6)]\n",
        ")\n",
        "\n",
        "wall_coordinates = sorted(\n",
        "    [(x, x - 1, 0) for x in range(1, 6)] +\n",
        "    [(x, x, z) for x in range(6) for z in range(2)] +\n",
        "    [(x, x + 1, z) for x in range(5) for z in range(2)]\n",
        ")"
      ],
      "id": "81521cc6",
      "execution_count": null,
      "outputs": []
    },
    {
      "cell_type": "markdown",
      "metadata": {},
      "source": [
        "Let's place these figures and their names into lists.\n"
      ],
      "id": "d9979231"
    },
    {
      "cell_type": "code",
      "metadata": {},
      "source": [
        "figure_names = [\"Cube\", \"Pyramid\", \"Turtle\", \"Tower\", \"Bear\", \"Tunnel\", \"Tub\", \"Airplane\", \n",
        "                \"Bench\", \"Duck\", \"Cascade\", \"Chair\", \"Castle\", \"Dog\", \"Cross\", \"Elephant\",\n",
        "                \"Stairs\", \"Snake\", \"Skyscraper\", \"Wall\"\n",
        "               ]\n",
        "figure_coordinates = [\n",
        "    cube_coordinates, pyramid_coordinates, turtle_coordinates, \n",
        "    tower_coordinates, bear_coordinates, tunnel_coordinates,\n",
        "    tub_coordinates, airplane_coordinates, bench_coordinates,\n",
        "    duck_coordinates, cascade_coordinates, chair_coordinates,\n",
        "    castle_coordinates, dog_coordinates, cross_coordinates,\n",
        "    elephant_coordinates, stairs_coordinates, snake_coordinates,\n",
        "    skyscraper_coordinates, wall_coordinates\n",
        "]"
      ],
      "id": "2d81c080",
      "execution_count": null,
      "outputs": []
    },
    {
      "cell_type": "markdown",
      "metadata": {},
      "source": [
        "You can add more figures if you want. Just make sure that each list contains exactly 27 coordinates. \n",
        "\n",
        "We can plot all figures as subplots.\n"
      ],
      "id": "9cc9051a"
    },
    {
      "cell_type": "code",
      "metadata": {},
      "source": [
        "#| column: screen-inset-right\n",
        "cols = 5\n",
        "number_of_figures = len(figure_coordinates)\n",
        "rows = ceil(number_of_figures / cols)\n",
        "fig, axs = plt.subplots(rows, cols, figsize=(cols*3,rows*3), \n",
        "    subplot_kw= { 'projection':'3d' }, gridspec_kw = {'wspace':0.5, 'hspace':0.0})\n",
        "\n",
        "fig.suptitle(f\"Figures\", fontsize=16)\n",
        "\n",
        "count = 0\n",
        "for i in range(number_of_figures):\n",
        "    solve_and_plot_first_solution(figure_coordinates[i], axs[count // cols, count % cols])\n",
        "    axs[count // cols, count % cols].set_title(figure_names[i])\n",
        "    count += 1\n",
        "\n",
        "while count < cols * rows:\n",
        "    axs[count // cols, count % cols].set_axis_off()\n",
        "    count += 1\n",
        "\n",
        "plt.show()"
      ],
      "id": "22a4ba92",
      "execution_count": null,
      "outputs": []
    },
    {
      "cell_type": "markdown",
      "metadata": {},
      "source": [
        "I have to admit that some figures are pretty cute.\n",
        "\n",
        "## Showing solutions one by one\n",
        "\n",
        "Most figures can be assembled in more than one way. Using some widgets we can put together a simple GUI that lets us select a figure, solve it and iterate over the solutions.\n",
        "\n",
        "We'll use a dropdown menu, a button, an output widget, and a label widget. The  solutions are shown as an animation we can step through.\n",
        "\n",
        "```{.python}\n",
        "figure_dropdown = widgets.Dropdown(options=zip(figure_names, figure_coordinates), value=cube_coordinates, description=\"Figure: \")\n",
        "next_button = widgets.Button(description=\"Next\")\n",
        "hbox = widgets.HBox([figure_dropdown, next_button])\n",
        "output = widgets.Output()\n",
        "label = widgets.Label()\n",
        "\n",
        "display(hbox, output, label)\n",
        "```\n"
      ],
      "id": "5d617afe"
    },
    {
      "cell_type": "code",
      "metadata": {},
      "source": [
        "#| echo: false\n",
        "figure_dropdown = widgets.Dropdown(options=zip(figure_names, figure_coordinates), value=cube_coordinates, description=\"Figure: \")\n",
        "next_button = widgets.Button(description=\"Next\")\n",
        "hbox = widgets.HBox([figure_dropdown, next_button])\n",
        "\n",
        "display(hbox)\n",
        "anim = animate_solution(voxels)\n",
        "HTML(anim.to_jshtml(default_mode='once'))"
      ],
      "id": "551fd466",
      "execution_count": null,
      "outputs": []
    },
    {
      "cell_type": "markdown",
      "metadata": {},
      "source": [
        "To keep track of which solution to show next, we declare the following global variables:\n",
        "\n",
        "```{.python}\n",
        "gen = None\n",
        "solution = None\n",
        "```\n",
        "\n",
        "The gen is a generator object that generates solutions for a given figure using the `solve_soma` function. The solution variable stores the next solution to be displayed. It is updated each time the \"Next\" button is clicked to display the next solution.\n",
        "\n",
        "```{.python}\n",
        "def figure_dropdown_change(change):\n",
        "    global gen\n",
        "    global solution\n",
        "    \n",
        "    if change['type'] == 'change' and change['name'] == 'value':\n",
        "        value = change['new']\n",
        "        next_button.layout.display = 'none'\n",
        "        \n",
        "        output.clear_output()\n",
        "        \n",
        "        gen = solve_soma(value)\n",
        "        try:\n",
        "            solution = next(gen)            \n",
        "            with output:\n",
        "                # find voxel space size\n",
        "                max_dim = np.max(value) + 1\n",
        "\n",
        "                # fill 3D voxel array and plot it\n",
        "                voxels = np.empty((max_dim, max_dim, max_dim), dtype='object')\n",
        "                for x, y, z, color in solution:\n",
        "                    voxels[x][y][z] = color\n",
        "\n",
        "                anim = animate_solution(voxels)\n",
        "                display(HTML(anim.to_jshtml(default_mode='once')))\n",
        "        except StopIteration:\n",
        "            label.value = \"No solutions found.\"\n",
        "            return\n",
        "\n",
        "        try:\n",
        "            solution = next(gen).copy()\n",
        "            label.value = \"\"\n",
        "            next_button.layout.display = 'inline-block'\n",
        "        except StopIteration:\n",
        "            label.value = \"\"\n",
        "\n",
        "figure_dropdown.observe(figure_dropdown_change)\n",
        "```\n",
        "\n",
        "The `figure_dropdown_change` function handles changes to the figure dropdown menu. It clears the output widget, displays the first solution, and stores the next solution in the solution variable (if any).\n",
        "\n",
        "```{.python}\n",
        "def on_next_button_clicked(b):\n",
        "    global gen\n",
        "    global solution\n",
        "    \n",
        "    output.clear_output(wait=True)\n",
        "    with output:\n",
        "        # find voxel space size\n",
        "        max_dim = np.max(figure_dropdown.value) + 1\n",
        "\n",
        "        # fill 3D voxel array and plot it\n",
        "        voxels = np.empty((max_dim, max_dim, max_dim), dtype='object')\n",
        "        for x, y, z, color in solution:\n",
        "            voxels[x][y][z] = color\n",
        "\n",
        "        anim = animate_solution(voxels)\n",
        "        display(HTML(anim.to_jshtml(default_mode='once')))\n",
        "    \n",
        "    try:\n",
        "        solution = next(gen)\n",
        "    except StopIteration:\n",
        "        label.value = \"\"\n",
        "        next_button.layout.display = 'none'\n",
        "\n",
        "next_button.on_click(on_next_button_clicked)\n",
        "\n",
        "figure_dropdown_change({'type': 'change', 'name': 'value', 'new': figure_dropdown.value})\n",
        "```\n",
        "\n",
        "The `on_next_button_clicked` function handles clicks on the \"Next\" button by clearing the output widget, displaying the current solution, and generating the next solution.\n",
        "\n",
        "## Solving your own Soma puzzles\n",
        "\n",
        "There you have it! No more wasting time on solving Soma puzzles. If you want to experiment with an interactive version of the solver, you can check out on of the following links:\n",
        "\n",
        "<a target=\"_blank\" href=\"https://kaggle.com/kernels/welcome?src=https://gist.githubusercontent.com/afvanwoudenberg/2cf22d0427f6c918602a2b7b12decdfd/raw/f9cad35f39ec06f633391ad4b66c741cffff9bb5/soma.ipynb\">![Kaggle](https://kaggle.com/static/images/open-in-kaggle.svg)</a> \n",
        "<a target=\"_blank\" href=\"http://colab.research.google.com/gist/afvanwoudenberg/2cf22d0427f6c918602a2b7b12decdfd/soma.ipynb\">![Colab](https://colab.research.google.com/assets/colab-badge.svg)</a>\n",
        "<a target=\"_blank\" href=\"https://gist.github.com/afvanwoudenberg/2cf22d0427f6c918602a2b7b12decdfd\">![GitHub](https://shields.io/badge/-View%20as%20Gist-grey.svg?logo=github&style=flat&logoColor=white&labelColor=black)</a>\n",
        "\n",
        "Now go do something useful!\n"
      ],
      "id": "75fc037f"
    }
  ],
  "metadata": {
    "kernelspec": {
      "name": "python3",
      "language": "python",
      "display_name": "Python 3 (ipykernel)"
    }
  },
  "nbformat": 4,
  "nbformat_minor": 5
}